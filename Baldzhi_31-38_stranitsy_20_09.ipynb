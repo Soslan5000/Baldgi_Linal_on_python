{
 "cells": [
  {
   "cell_type": "markdown",
   "metadata": {},
   "source": [
    "## Балджы. Математика на Python"
   ]
  },
  {
   "cell_type": "code",
   "execution_count": 243,
   "metadata": {},
   "outputs": [],
   "source": [
    "from numpy import array, dot, concatenate, insert\n",
    "from numpy import linalg as lg\n",
    "from random import randint\n",
    "from itertools import permutations\n",
    "import math"
   ]
  },
  {
   "cell_type": "markdown",
   "metadata": {},
   "source": [
    "### № 21 - 27 Матричные выражения"
   ]
  },
  {
   "cell_type": "code",
   "execution_count": 2,
   "metadata": {},
   "outputs": [],
   "source": [
    "def max_len_el_of_matrix(matrix):\n",
    "    max_len = 0\n",
    "    for i in range(len(matrix)):\n",
    "        for j in range(len(matrix[0])):\n",
    "            max_len = max(max_len, len(str(matrix[i][j])))\n",
    "    return max_len"
   ]
  },
  {
   "cell_type": "code",
   "execution_count": 71,
   "metadata": {},
   "outputs": [],
   "source": [
    "def print_matrix(matrix, name_matrix='G'):\n",
    "    print()\n",
    "    сentre = len(matrix) // 2\n",
    "    l = max_len_el_of_matrix(matrix) + 4\n",
    "    tab = 8 - l % 8\n",
    "    sum_len_str = (l + tab) * len(matrix[0]) - tab\n",
    "    \n",
    "    print('\\t' + '-' * sum_len_str)\n",
    "    for row in range(len(matrix)):\n",
    "        if len(matrix) % 2 != 0:\n",
    "            if row == сentre:\n",
    "                print(' '*(8-len(name_matrix)-6), name_matrix + ' = ', end='')\n",
    "        for col in range(len(matrix[0])):\n",
    "            num_to_str = str(matrix[row][col])\n",
    "            print('\\t|', num_to_str.center(max_len_el_of_matrix(matrix), ' '), '|', end='')\n",
    "        print()\n",
    "        if len(matrix) % 2 == 0:\n",
    "            if row == сentre - 1:\n",
    "                print(' '*(8-len(name_matrix)-6), name_matrix + ' = ', end='')\n",
    "        print('\\t' + '-' * sum_len_str)\n",
    "    print()"
   ]
  },
  {
   "cell_type": "code",
   "execution_count": 74,
   "metadata": {},
   "outputs": [],
   "source": [
    "def input_matrix(name_matrix):\n",
    "    print('\\nМАТРИЦА ' + name_matrix)\n",
    "    n = int(input('Введите количество строк: '))\n",
    "    m = int(input('Введите количество столбцов: '))\n",
    "    # print('\\nВ каждой строке ввод осуществляется через пробел')\n",
    "    # print('Для перехода к заполнению следующей строки нажмите ENTER')\n",
    "    \n",
    "    matrix = []\n",
    "    for row in range(n):\n",
    "        # matrix.append(input('\\nВведите ' + str(row + 1) + '-ую строку матрицы: ').split())\n",
    "        el_for_row = []\n",
    "        for col in range(m):\n",
    "            el_for_row.append(randint(1, 100))\n",
    "        matrix.append(el_for_row)\n",
    "        \n",
    "    for i in range(n):\n",
    "        while len(matrix[i]) < m:\n",
    "            matrix[i].append(0)\n",
    "        while len(matrix[i]) > m:\n",
    "            matrix[i].pop()\n",
    "        \n",
    "    for row in range(n):\n",
    "        for col in range(m):\n",
    "            matrix[row][col] = int(matrix[row][col])\n",
    "            \n",
    "    matrix = array(matrix)\n",
    "            \n",
    "    return matrix"
   ]
  },
  {
   "cell_type": "code",
   "execution_count": 75,
   "metadata": {},
   "outputs": [
    {
     "name": "stdout",
     "output_type": "stream",
     "text": [
      "Введите номер задания, а затем введите все матрицы, необходимые для расчетов: 26\n",
      "\n",
      "МАТРИЦА A\n",
      "Введите количество строк: 3\n",
      "Введите количество столбцов: 7\n",
      "\n",
      "МАТРИЦА B\n",
      "Введите количество строк: 3\n",
      "Введите количество столбцов: 7\n",
      "\n",
      "МАТРИЦА C\n",
      "Введите количество строк: 3\n",
      "Введите количество столбцов: 7\n",
      "\n",
      "МАТРИЦА D\n",
      "Введите количество строк: 3\n",
      "Введите количество столбцов: 7\n",
      "\n",
      "\t----------------------------------------------------------------------------------------------------------\n",
      "\t| 74943  |\t| 47967  |\t| 136773 |\t| 78684  |\t| 91947  |\t| -1614  |\t| 86073  |\n",
      "\t----------------------------------------------------------------------------------------------------------\n",
      "\t| 98601  |\t| 43761  |\t| 125967 |\t| 60264  |\t| 75924  |\t| -28563 |\t| 106161 |\n",
      "\t----------------------------------------------------------------------------------------------------------\n",
      "\t| 66894  |\t| 40779  |\t| 105237 |\t| 62052  |\t| 60870  |\t| -9411  |\t| 75516  |\n",
      "\t----------------------------------------------------------------------------------------------------------\n",
      "  G = \t| 80055  |\t| 45381  |\t| 144867 |\t| 75864  |\t| 106854 |\t| -2709  |\t| 90567  |\n",
      "\t----------------------------------------------------------------------------------------------------------\n",
      "\t| 94020  |\t| 48828  |\t| 131928 |\t| 70740  |\t| 77139  |\t| -21249 |\t| 103422 |\n",
      "\t----------------------------------------------------------------------------------------------------------\n",
      "\t| 55497  |\t| 27558  |\t| 84642  |\t| 42276  |\t| 57768  |\t| -9486  |\t| 61107  |\n",
      "\t----------------------------------------------------------------------------------------------------------\n",
      "\t| 86205  |\t| 38007  |\t| 108813 |\t| 51924  |\t| 64887  |\t| -25602 |\t| 92691  |\n",
      "\t----------------------------------------------------------------------------------------------------------\n",
      "\n"
     ]
    }
   ],
   "source": [
    "choise = int(input('Введите номер задания, а затем введите все матрицы, необходимые для расчетов: '))\n",
    "list_of_n = [21, 22, 23, 24, 25, 26, 27]\n",
    "\n",
    "if choise not in list_of_n:\n",
    "    print('Такого задания нет, попробуйте снова!!!')\n",
    "else:\n",
    "    A = input_matrix('A')\n",
    "    B = input_matrix('B')\n",
    "    C = input_matrix('C')\n",
    "    D = input_matrix('D')\n",
    "\n",
    "    if choise == 21:\n",
    "        G = dot((A-2*B.transpose()), (C+3*D))\n",
    "    elif choise == 22:\n",
    "        G = dot(((2*A+B).transpose()), (3*C-4*D))\n",
    "    elif choise == 23:\n",
    "        G = dot((3*A-B), ((2*C+3*D).transpose())), \n",
    "    elif choise == 24:\n",
    "        G = dot((2*A+3*B), (C-2*D.transpose()))\n",
    "    elif choise == 25:\n",
    "        G = 2*dot((A-B), ((3*C+2*D).transpose()))\n",
    "    elif choise == 26:\n",
    "        G = 3*dot(((A+B).transpose()), (2*C-D))\n",
    "    elif choise == 27:\n",
    "        G = 5*dot((A.transpose()-2*B), (C+2*D))\n",
    "\n",
    "    print_matrix(G)"
   ]
  },
  {
   "cell_type": "markdown",
   "metadata": {},
   "source": [
    "### № 28 - 35 Матричные функции"
   ]
  },
  {
   "cell_type": "code",
   "execution_count": 5,
   "metadata": {},
   "outputs": [],
   "source": [
    "def poly(coeffs:list, matrix):\n",
    "    result = 0\n",
    "    coeffs.reverse()\n",
    "    \n",
    "    for i in range(len(coeffs)):\n",
    "        result += coeffs[i] * lg.matrix_power(A, i)\n",
    "        \n",
    "    return result"
   ]
  },
  {
   "cell_type": "code",
   "execution_count": 6,
   "metadata": {},
   "outputs": [],
   "source": [
    "def print_coeffs():\n",
    "    coeffs = input('Введите коэффициенты через пробел, начиная со старшего члена: ').split()\n",
    "    \n",
    "    for i in range(len(coeffs)):\n",
    "        coeffs[i] = int(coeffs[i])\n",
    "        \n",
    "    return coeffs"
   ]
  },
  {
   "cell_type": "code",
   "execution_count": 206,
   "metadata": {},
   "outputs": [
    {
     "name": "stdout",
     "output_type": "stream",
     "text": [
      "\n",
      "МАТРИЦА A\n",
      "Введите количество строк: 7\n",
      "Введите количество столбцов: 7\n",
      "Введите коэффициенты через пробел, начиная со старшего члена: 1 2 3 4\n",
      "\n",
      "\t---------------------------------------------------------------------------------------------------------------\n",
      "\t|  -718800743 |\t|  2069416728 |\t| -1463971745 |\t|  1838362948 |\t|  2029533281 |\t| -1919521054 |\t|  -434089515 |\n",
      "\t---------------------------------------------------------------------------------------------------------------\n",
      "\t|  -573675058 |\t| -2120156664 |\t| -1242189166 |\t|  2003070527 |\t|  2095618336 |\t| -1810311037 |\t|  -256134143 |\n",
      "\t---------------------------------------------------------------------------------------------------------------\n",
      "\t|  1760450691 |\t|  -268264731 |\t|   618001237 |\t|  -259024826 |\t|   -12616118 |\t|   885745521 |\t|  1356753534 |\n",
      "\t---------------------------------------------------------------------------------------------------------------\n",
      "  F = \t|   577995049 |\t| -1875642836 |\t| -1135299333 |\t| -1782260750 |\t| -1653244473 |\t|  -110727075 |\t|  -489350369 |\n",
      "\t---------------------------------------------------------------------------------------------------------------\n",
      "\t|   516751045 |\t| -2065621290 |\t| -1001479434 |\t| -1912226613 |\t| -1598908309 |\t|  -127354083 |\t|  -508399325 |\n",
      "\t---------------------------------------------------------------------------------------------------------------\n",
      "\t| -1963424491 |\t|   561862984 |\t|  1179686226 |\t|   452837585 |\t|   585767603 |\t|  1331260114 |\t|  2136485275 |\n",
      "\t---------------------------------------------------------------------------------------------------------------\n",
      "\t|  1612523939 |\t|  -706512037 |\t|   224445814 |\t|  -724849297 |\t|  -571174786 |\t|   724517251 |\t|   862636112 |\n",
      "\t---------------------------------------------------------------------------------------------------------------\n",
      "\n"
     ]
    }
   ],
   "source": [
    "A = input_matrix('A')\n",
    "coeffs = print_coeffs()\n",
    "print_matrix(poly(coeffs, A), 'F')"
   ]
  },
  {
   "cell_type": "markdown",
   "metadata": {},
   "source": [
    "## № 36 - 42 Детерминант"
   ]
  },
  {
   "cell_type": "code",
   "execution_count": 137,
   "metadata": {},
   "outputs": [
    {
     "name": "stdout",
     "output_type": "stream",
     "text": [
      "\n",
      "МАТРИЦА A\n",
      "Введите количество строк: 5\n",
      "Введите количество столбцов: 5\n",
      "Детерминант матрицы равен: 53625040451497.945\n"
     ]
    }
   ],
   "source": [
    "A = input_matrix('A')\n",
    "print('Детерминант матрицы равен:', lg.det(A))"
   ]
  },
  {
   "cell_type": "markdown",
   "metadata": {},
   "source": [
    "### № 44 - 50 Обратная матрица"
   ]
  },
  {
   "cell_type": "code",
   "execution_count": 138,
   "metadata": {},
   "outputs": [
    {
     "name": "stdout",
     "output_type": "stream",
     "text": [
      "\n",
      "МАТРИЦА A\n",
      "Введите количество строк: 3\n",
      "Введите количество столбцов: 3\n",
      "Обратная матрица равна:\n",
      "\n",
      "G = \t------------------------------------------------------------------------------------------\n",
      "\t|  0.0010167194081238356 |\t|  -0.004706854355548398 |\t|   0.003724598411211887 |\n",
      "\t------------------------------------------------------------------------------------------\n",
      "\t| 0.00015267704075566096 |\t|  0.0050471559714243925 |\t|  -0.004010188245248053 |\n",
      "\t------------------------------------------------------------------------------------------\n",
      "\t| -0.0003385188193594181 |\t|  0.0013755514818327192 |\t| -7.886808430946278e-05 |\n",
      "\t------------------------------------------------------------------------------------------\n",
      "\n"
     ]
    }
   ],
   "source": [
    "A = input_matrix('A')\n",
    "print('Обратная матрица равна:')\n",
    "print_matrix(lg.inv(A))"
   ]
  },
  {
   "cell_type": "markdown",
   "metadata": {},
   "source": [
    "### № 51 Матричные уравнения"
   ]
  },
  {
   "cell_type": "code",
   "execution_count": 7,
   "metadata": {},
   "outputs": [],
   "source": [
    "def matrix_equation(A, B):\n",
    "    return dot(lg.inv(A), B)"
   ]
  },
  {
   "cell_type": "code",
   "execution_count": 419,
   "metadata": {},
   "outputs": [],
   "source": [
    "def print_answer_for_one_sol(X):\n",
    "    list_with_text = []\n",
    "    for i in range(len(X)):\n",
    "        list_with_text.append('x'+str(i+1)+' =')\n",
    "    \n",
    "    print()\n",
    "    for t, x in zip(list_with_text, X):\n",
    "        print(t, float(str(list(x))[1:6]))"
   ]
  },
  {
   "cell_type": "code",
   "execution_count": 143,
   "metadata": {},
   "outputs": [
    {
     "name": "stdout",
     "output_type": "stream",
     "text": [
      "\n",
      "МАТРИЦА A\n",
      "Введите количество строк: 8\n",
      "Введите количество столбцов: 8\n",
      "\n",
      "МАТРИЦА B\n",
      "Введите количество строк: 8\n",
      "Введите количество столбцов: 1\n",
      "\n",
      "x1 = 17.93\n",
      "x2 = 5.312\n",
      "x3 = -11.7\n",
      "x4 = -23.4\n",
      "x5 = 8.987\n",
      "x6 = -10.0\n",
      "x7 = 5.43\n",
      "x8 = 1.131\n"
     ]
    }
   ],
   "source": [
    "A = input_matrix('A')\n",
    "B = input_matrix('B')\n",
    "X = matrix_equation(A, B)\n",
    "print_answer(X)"
   ]
  },
  {
   "cell_type": "markdown",
   "metadata": {},
   "source": [
    "### № 52 - 61 Ранг матрицы. Количество линейно независимых строк/столбцов"
   ]
  },
  {
   "cell_type": "code",
   "execution_count": 144,
   "metadata": {},
   "outputs": [
    {
     "name": "stdout",
     "output_type": "stream",
     "text": [
      "\n",
      "МАТРИЦА A\n",
      "Введите количество строк: 6\n",
      "Введите количество столбцов: 9\n",
      "Ранг матрицы равен: 6\n"
     ]
    }
   ],
   "source": [
    "A = input_matrix('A')\n",
    "print('Ранг матрицы равен:', lg.matrix_rank(A))"
   ]
  },
  {
   "cell_type": "markdown",
   "metadata": {},
   "source": [
    "### № 68 - 83 Решение СЛУ"
   ]
  },
  {
   "cell_type": "code",
   "execution_count": 431,
   "metadata": {},
   "outputs": [],
   "source": [
    "def determ(A):\n",
    "    if A.shape[0] == A.shape[1]:\n",
    "        if lg.det(A) != 0:\n",
    "            print('\\nДетерменант не равен 0. Система имеет одно решение!\\n')\n",
    "            return True\n",
    "        else:\n",
    "            print('\\nДетерменант равен 0!\\n')\n",
    "            return False\n",
    "    else:\n",
    "        print('\\nМатрица не является квадратной. Детерменант невозможно посчитать!\\n')\n",
    "        return False"
   ]
  },
  {
   "cell_type": "code",
   "execution_count": 432,
   "metadata": {},
   "outputs": [],
   "source": [
    "def consistency(A, B):\n",
    "    AB = concatenate((A, B), axis=1)\n",
    "    rank_A = lg.matrix_rank(A)\n",
    "    rank_AB = lg.matrix_rank(AB)\n",
    "    if rank_A == rank_AB:\n",
    "        print('\\nСистема совместна. Решений бесконечно много!\\n')\n",
    "        return True\n",
    "    else:\n",
    "        print('\\nСистема несовместна. Решений нет!\\n')\n",
    "        return False"
   ]
  },
  {
   "cell_type": "code",
   "execution_count": 433,
   "metadata": {},
   "outputs": [],
   "source": [
    "def combine(permutations_of_combined_val, rank):\n",
    "    list_of_comb = [a for a in permutations(permutations_of_combined_val, int(rank))]\n",
    "    sorted_list_of_comb = []\n",
    "    for i in range(len(list_of_comb)):\n",
    "        list_of_comb[i] = sorted(list(list_of_comb[i]))\n",
    "    for el in list_of_comb:\n",
    "        if el not in sorted_list_of_comb:\n",
    "            sorted_list_of_comb.append(el)\n",
    "    return sorted_list_of_comb"
   ]
  },
  {
   "cell_type": "code",
   "execution_count": 434,
   "metadata": {},
   "outputs": [],
   "source": [
    "def check_minor(A):\n",
    "    Rank = int(lg.matrix_rank(A))\n",
    "    list1 = combine([i for i in range(A.shape[0])], Rank)\n",
    "    list2 = combine([i for i in range(A.shape[1])], Rank)\n",
    "\n",
    "    for i in list1:\n",
    "        for j in list2:\n",
    "            minor = A[list(i)].transpose()[list(j)].transpose()\n",
    "            det_M = lg.det(minor)\n",
    "            if det_M != 0:\n",
    "                basis_indexes_row = i\n",
    "                basis_indexes_col = j\n",
    "                break\n",
    "    return minor, basis_indexes_row, basis_indexes_col"
   ]
  },
  {
   "cell_type": "code",
   "execution_count": 435,
   "metadata": {},
   "outputs": [],
   "source": [
    "def solution(A, B):\n",
    "    minor, basis_ind_row, basis_ind_col = check_minor(A)\n",
    "    free_ind_row = basis_ind_row\n",
    "    free_ind_col = []\n",
    "    for i in range(len(A[0])):\n",
    "        if i not in basis_ind_col:\n",
    "            free_ind_col.append(i)\n",
    "\n",
    "    left_part = minor\n",
    "    right_part = A[free_ind_row].transpose()[free_ind_col].transpose()\n",
    "\n",
    "    # Общее решение\n",
    "    full_X = [[] for i in range(len(right_part[0]))]\n",
    "    for i in range(len(full_X)):\n",
    "        full_X[i] = [0 for i in range(len(A[i]))]\n",
    "\n",
    "    transpose_right_part = right_part.transpose()\n",
    "    for i in range(len(transpose_right_part)):\n",
    "        X = lg.solve(left_part, -1*transpose_right_part[i].transpose())\n",
    "        ind_X = 0\n",
    "        for j in basis_ind_col:\n",
    "            full_X[i][j] = float(X[ind_X])\n",
    "            ind_X += 1\n",
    "        ind_X = 0\n",
    "        for j in free_ind_col:\n",
    "            full_X[i][j] = 0\n",
    "            ind_X += 1\n",
    "        full_X[i][free_ind_col[i]] = 1\n",
    "\n",
    "    # Частное решение\n",
    "    X_B = [0 for i in range(len(A[i]))]\n",
    "    right_part_B = B[free_ind_row]\n",
    "    X = lg.solve(left_part, right_part_B)\n",
    "    ind_X = 0\n",
    "    for i in basis_ind_col:\n",
    "        X_B[i] = float(X[ind_X])\n",
    "        ind_X += 1\n",
    "    ind_X = 0\n",
    "    for i in free_ind_col:\n",
    "        X_B[i] = 0\n",
    "        ind_X += 1\n",
    "\n",
    "    return full_X, X_B"
   ]
  },
  {
   "cell_type": "code",
   "execution_count": 436,
   "metadata": {},
   "outputs": [],
   "source": [
    "def print_answer_for_many_sol(full_X, X_B):\n",
    "    сentre = len(X_B) // 2 - 1\n",
    "    count_X_text = 0\n",
    "    count_ind = 1\n",
    "    SUB = str.maketrans(\"0123456789\", \"₀₁₂₃₄₅₆₇₈₉\")\n",
    "    \n",
    "    if X_B not in full_X:\n",
    "        full_X.append(X_B)\n",
    "    for i in range(len(full_X)):\n",
    "        for j in range(len(full_X[0])):\n",
    "            full_X[i][j] = round(full_X[i][j], 5)\n",
    "        \n",
    "    max_len_el = max_len_el_of_matrix(full_X)\n",
    "    \n",
    "    for i in range(len(full_X[0])):\n",
    "        print()\n",
    "        for j in range(len(full_X)):\n",
    "            num_to_str = str(full_X[j][i])\n",
    "            if i == 0:   \n",
    "                print('\\t', '    /', num_to_str.center(max_len_el, ' '), '\\\\   ', end='')\n",
    "                count_C_text = 0\n",
    "            elif i == len(full_X[j]) - 1:\n",
    "                print('\\t', '    \\\\', num_to_str.center(max_len_el, ' '), '/   ', end='')\n",
    "            else:\n",
    "                if i == сentre and count_X_text == 0:\n",
    "                    print(' '*(8-len('X')-5), 'X' + ' = ', end='')\n",
    "                    count_X_text = 1\n",
    "                if i == сentre and count_C_text == 0 and count_ind < len(full_X):\n",
    "                    print('\\t', 'С'+str(count_ind).translate(SUB)+'*|', num_to_str.center(max_len_el, ' '), '  |  +', end='')\n",
    "                    count_ind += 1\n",
    "                else:\n",
    "                    print('\\t    |', num_to_str.center(max_len_el, ' '), '  |   ', end='')"
   ]
  },
  {
   "cell_type": "code",
   "execution_count": 444,
   "metadata": {},
   "outputs": [
    {
     "name": "stdout",
     "output_type": "stream",
     "text": [
      "\n",
      "МАТРИЦА A\n",
      "Введите количество строк: 6\n",
      "Введите количество столбцов: 9\n",
      "\n",
      "МАТРИЦА B\n",
      "Введите количество строк: 6\n",
      "Введите количество столбцов: 1\n",
      "\n",
      "\t----------------------------------------------------------------------\n",
      "\t| 30 |\t| 34 |\t| 63 |\t| 2  |\t| 92 |\t| 38 |\t| 1  |\t| 72 |\t| 73 |\n",
      "\t----------------------------------------------------------------------\n",
      "\t| 94 |\t| 13 |\t| 8  |\t| 22 |\t| 28 |\t| 60 |\t| 74 |\t| 39 |\t| 39 |\n",
      "\t----------------------------------------------------------------------\n",
      "\t| 86 |\t| 47 |\t| 15 |\t| 5  |\t| 42 |\t| 60 |\t| 63 |\t| 42 |\t| 37 |\n",
      "  A = \t----------------------------------------------------------------------\n",
      "\t| 11 |\t| 50 |\t| 48 |\t| 78 |\t| 41 |\t| 69 |\t| 15 |\t| 30 |\t| 60 |\n",
      "\t----------------------------------------------------------------------\n",
      "\t| 67 |\t| 98 |\t| 82 |\t| 76 |\t| 5  |\t| 92 |\t| 7  |\t| 13 |\t| 37 |\n",
      "\t----------------------------------------------------------------------\n",
      "\t| 99 |\t| 77 |\t| 80 |\t| 99 |\t| 34 |\t| 28 |\t| 14 |\t| 43 |\t| 26 |\n",
      "\t----------------------------------------------------------------------\n",
      "\n",
      "\n",
      "\t------\n",
      "\t| 44 |\n",
      "\t------\n",
      "\t| 38 |\n",
      "\t------\n",
      "\t| 5  |\n",
      "  B = \t------\n",
      "\t| 51 |\n",
      "\t------\n",
      "\t| 13 |\n",
      "\t------\n",
      "\t| 41 |\n",
      "\t------\n",
      "\n",
      "\n",
      "Матрица не является квадратной. Детерменант невозможно посчитать!\n",
      "\n",
      "\n",
      "Система совместна. Решений бесконечно много!\n",
      "\n",
      "\n",
      "\t     / -0.4843  \\   \t     / -0.21167 \\   \t     / 0.08987  \\   \t     / 0.07074  \\   \n",
      "\t    | 0.05984    |   \t    | 0.16115    |   \t    | 0.31601    |   \t    | -0.92938   |   \n",
      "\t    | 0.87371    |   \t    | -0.10982   |   \t    | -0.19204   |   \t    | 0.36702    |   \n",
      "   X = \t С₁*| -0.19371   |  +\t С₂*| -0.01861   |  +\t С₃*| -0.09228   |  +\t    | 0.54654    |   \n",
      "\t    | -0.30844   |   \t    | -0.6943    |   \t    | -0.58929   |   \t    |  0.4205    |   \n",
      "\t    | -0.38909   |   \t    | -0.00783   |   \t    | -0.52482   |   \t    | 0.27831    |   \n",
      "\t    |    1       |   \t    |    0       |   \t    |    0       |   \t    |    0       |   \n",
      "\t    |    0       |   \t    |    1       |   \t    |    0       |   \t    |    0       |   \n",
      "\t     \\    0     /   \t     \\    0     /   \t     \\    1     /   \t     \\    0     /   "
     ]
    }
   ],
   "source": [
    "A = input_matrix('A')\n",
    "B = input_matrix('B')\n",
    "print_matrix(A, 'A')\n",
    "print_matrix(B, 'B')\n",
    "if determ(A):\n",
    "    print_answer_for_one_sol(lg.solve(A, B))\n",
    "\n",
    "else:\n",
    "    if consistency(A, B):\n",
    "        full_X, X_B = solution(A, B)\n",
    "        print_answer_for_many_sol(full_X, X_B)\n",
    "        \n",
    "    elif not consistency(A, B):\n",
    "        pass"
   ]
  },
  {
   "cell_type": "code",
   "execution_count": null,
   "metadata": {},
   "outputs": [],
   "source": []
  }
 ],
 "metadata": {
  "kernelspec": {
   "display_name": "Python 3 (ipykernel)",
   "language": "python",
   "name": "python3"
  },
  "language_info": {
   "codemirror_mode": {
    "name": "ipython",
    "version": 3
   },
   "file_extension": ".py",
   "mimetype": "text/x-python",
   "name": "python",
   "nbconvert_exporter": "python",
   "pygments_lexer": "ipython3",
   "version": "3.9.13"
  }
 },
 "nbformat": 4,
 "nbformat_minor": 4
}
